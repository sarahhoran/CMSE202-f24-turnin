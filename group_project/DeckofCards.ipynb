{
 "cells": [
  {
   "cell_type": "code",
   "execution_count": 1,
   "id": "ad0e4a3b-e792-4d06-afae-6f9691f93ee7",
   "metadata": {},
   "outputs": [],
   "source": [
    "import random\n",
    "\n",
    "class Deck:\n",
    "    def __init__(self, num_decks=1):\n",
    "        \"\"\"\n",
    "        stated with deck of cards, i set num decks to 1\n",
    "        A deck of cards has 52 cards with 4 suits (Hearts, Diamonds, Clubs, Spades)\n",
    "        with values 2-10, Jack, Queen, King (all valued at 10), and Ace (valued at 11).\n",
    "        \"\"\"\n",
    "        self.num_decks = num_decks\n",
    "        self.cards = self._create_deck() * num_decks\n",
    "        random.shuffle(self.cards)\n",
    "    \n",
    "    def _create_deck(self):\n",
    "        \"\"\"makes the deck of cards, ace value set to 11\"\"\"\n",
    "        values = [2, 3, 4, 5, 6, 7, 8, 9, 10, 10, 10, 10, 11] \n",
    "        suits = ['Hearts', 'Diamonds', 'Clubs', 'Spades']\n",
    "        return [(value, suit) for value in values for suit in suits]\n",
    "    \n",
    "    def draw_card(self):\n",
    "        \"\"\"\n",
    "        \"draws\" a card\n",
    "         if no cards are left it will reset and shuffle the deck\n",
    "         after said card is drawn it will remove it from deck\n",
    "        \"\"\"\n",
    "        if not self.cards:\n",
    "            self.cards = self._create_deck() * self.num_decks\n",
    "            random.shuffle(self.cards)\n",
    "        return self.cards.pop()\n"
   ]
  },
  {
   "cell_type": "code",
   "execution_count": null,
   "id": "9e99f310-8fdb-4b99-8fc7-19459b4e9c08",
   "metadata": {},
   "outputs": [],
   "source": []
  }
 ],
 "metadata": {
  "kernelspec": {
   "display_name": "Python 3.11 (default)",
   "language": "python",
   "name": "python3"
  },
  "language_info": {
   "codemirror_mode": {
    "name": "ipython",
    "version": 3
   },
   "file_extension": ".py",
   "mimetype": "text/x-python",
   "name": "python",
   "nbconvert_exporter": "python",
   "pygments_lexer": "ipython3",
   "version": "3.11.9"
  }
 },
 "nbformat": 4,
 "nbformat_minor": 5
}
